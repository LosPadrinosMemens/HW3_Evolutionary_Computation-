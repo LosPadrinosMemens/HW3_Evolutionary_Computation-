{
 "cells": [
  {
   "cell_type": "code",
   "execution_count": 1,
   "metadata": {},
   "outputs": [],
   "source": [
    "from GA import *\n",
    "from Problems import *\n",
    "from utils import *\n",
    "from PSO import *\n",
    "import matplotlib.pyplot as plt"
   ]
  },
  {
   "cell_type": "code",
   "execution_count": 17,
   "metadata": {},
   "outputs": [],
   "source": [
    "a = Population(\"G1\", config_file=\"inputs/params_g1.cfg\", penalty=False)"
   ]
  },
  {
   "cell_type": "code",
   "execution_count": 18,
   "metadata": {},
   "outputs": [],
   "source": [
    "a.evolve(\"DE+SR\")"
   ]
  },
  {
   "cell_type": "code",
   "execution_count": 9,
   "metadata": {},
   "outputs": [],
   "source": [
    "df = functions.dict_to_dataframe(a.generation_statistics)"
   ]
  },
  {
   "cell_type": "code",
   "execution_count": 5,
   "metadata": {},
   "outputs": [
    {
     "data": {
      "text/plain": [
       "array([ True,  True])"
      ]
     },
     "execution_count": 5,
     "metadata": {},
     "output_type": "execute_result"
    }
   ],
   "source": [
    "a.best_chromosome.genes >= a.objective_function.get_xmin()"
   ]
  },
  {
   "cell_type": "code",
   "execution_count": 6,
   "metadata": {},
   "outputs": [
    {
     "data": {
      "text/plain": [
       "array([ True,  True])"
      ]
     },
     "execution_count": 6,
     "metadata": {},
     "output_type": "execute_result"
    }
   ],
   "source": [
    "a.best_chromosome.genes <= a.objective_function.get_xmax()"
   ]
  },
  {
   "cell_type": "code",
   "execution_count": 7,
   "metadata": {},
   "outputs": [
    {
     "data": {
      "text/plain": [
       "3.373680368434947e-05"
      ]
     },
     "execution_count": 7,
     "metadata": {},
     "output_type": "execute_result"
    }
   ],
   "source": [
    "a.objective_function.evaluate(a.best_chromosome.genes)"
   ]
  },
  {
   "cell_type": "code",
   "execution_count": 10,
   "metadata": {},
   "outputs": [
    {
     "data": {
      "text/html": [
       "<div>\n",
       "<style scoped>\n",
       "    .dataframe tbody tr th:only-of-type {\n",
       "        vertical-align: middle;\n",
       "    }\n",
       "\n",
       "    .dataframe tbody tr th {\n",
       "        vertical-align: top;\n",
       "    }\n",
       "\n",
       "    .dataframe thead th {\n",
       "        text-align: right;\n",
       "    }\n",
       "</style>\n",
       "<table border=\"1\" class=\"dataframe\">\n",
       "  <thead>\n",
       "    <tr style=\"text-align: right;\">\n",
       "      <th></th>\n",
       "      <th>best_fitness</th>\n",
       "      <th>best_fitness_with_penalty</th>\n",
       "      <th>weighted_penalty</th>\n",
       "      <th>unweighted_penalty</th>\n",
       "      <th>num_violations</th>\n",
       "    </tr>\n",
       "    <tr>\n",
       "      <th>Generation</th>\n",
       "      <th></th>\n",
       "      <th></th>\n",
       "      <th></th>\n",
       "      <th></th>\n",
       "      <th></th>\n",
       "    </tr>\n",
       "  </thead>\n",
       "  <tbody>\n",
       "    <tr>\n",
       "      <th>1</th>\n",
       "      <td>0.047092</td>\n",
       "      <td>0.047092</td>\n",
       "      <td>0</td>\n",
       "      <td>0</td>\n",
       "      <td>0</td>\n",
       "    </tr>\n",
       "    <tr>\n",
       "      <th>2</th>\n",
       "      <td>0.047092</td>\n",
       "      <td>0.047092</td>\n",
       "      <td>0</td>\n",
       "      <td>0</td>\n",
       "      <td>0</td>\n",
       "    </tr>\n",
       "    <tr>\n",
       "      <th>3</th>\n",
       "      <td>0.045742</td>\n",
       "      <td>0.045742</td>\n",
       "      <td>0</td>\n",
       "      <td>0</td>\n",
       "      <td>0</td>\n",
       "    </tr>\n",
       "    <tr>\n",
       "      <th>4</th>\n",
       "      <td>0.034201</td>\n",
       "      <td>0.034201</td>\n",
       "      <td>0</td>\n",
       "      <td>0</td>\n",
       "      <td>0</td>\n",
       "    </tr>\n",
       "    <tr>\n",
       "      <th>5</th>\n",
       "      <td>0.034201</td>\n",
       "      <td>0.034201</td>\n",
       "      <td>0</td>\n",
       "      <td>0</td>\n",
       "      <td>0</td>\n",
       "    </tr>\n",
       "    <tr>\n",
       "      <th>...</th>\n",
       "      <td>...</td>\n",
       "      <td>...</td>\n",
       "      <td>...</td>\n",
       "      <td>...</td>\n",
       "      <td>...</td>\n",
       "    </tr>\n",
       "    <tr>\n",
       "      <th>246</th>\n",
       "      <td>0.000751</td>\n",
       "      <td>0.000751</td>\n",
       "      <td>0</td>\n",
       "      <td>0</td>\n",
       "      <td>0</td>\n",
       "    </tr>\n",
       "    <tr>\n",
       "      <th>247</th>\n",
       "      <td>0.000751</td>\n",
       "      <td>0.000751</td>\n",
       "      <td>0</td>\n",
       "      <td>0</td>\n",
       "      <td>0</td>\n",
       "    </tr>\n",
       "    <tr>\n",
       "      <th>248</th>\n",
       "      <td>0.000751</td>\n",
       "      <td>0.000751</td>\n",
       "      <td>0</td>\n",
       "      <td>0</td>\n",
       "      <td>0</td>\n",
       "    </tr>\n",
       "    <tr>\n",
       "      <th>249</th>\n",
       "      <td>0.000751</td>\n",
       "      <td>0.000751</td>\n",
       "      <td>0</td>\n",
       "      <td>0</td>\n",
       "      <td>0</td>\n",
       "    </tr>\n",
       "    <tr>\n",
       "      <th>250</th>\n",
       "      <td>0.000751</td>\n",
       "      <td>0.000751</td>\n",
       "      <td>0</td>\n",
       "      <td>0</td>\n",
       "      <td>0</td>\n",
       "    </tr>\n",
       "  </tbody>\n",
       "</table>\n",
       "<p>250 rows × 5 columns</p>\n",
       "</div>"
      ],
      "text/plain": [
       "            best_fitness  best_fitness_with_penalty  weighted_penalty  \\\n",
       "Generation                                                              \n",
       "1               0.047092                   0.047092                 0   \n",
       "2               0.047092                   0.047092                 0   \n",
       "3               0.045742                   0.045742                 0   \n",
       "4               0.034201                   0.034201                 0   \n",
       "5               0.034201                   0.034201                 0   \n",
       "...                  ...                        ...               ...   \n",
       "246             0.000751                   0.000751                 0   \n",
       "247             0.000751                   0.000751                 0   \n",
       "248             0.000751                   0.000751                 0   \n",
       "249             0.000751                   0.000751                 0   \n",
       "250             0.000751                   0.000751                 0   \n",
       "\n",
       "            unweighted_penalty  num_violations  \n",
       "Generation                                      \n",
       "1                            0               0  \n",
       "2                            0               0  \n",
       "3                            0               0  \n",
       "4                            0               0  \n",
       "5                            0               0  \n",
       "...                        ...             ...  \n",
       "246                          0               0  \n",
       "247                          0               0  \n",
       "248                          0               0  \n",
       "249                          0               0  \n",
       "250                          0               0  \n",
       "\n",
       "[250 rows x 5 columns]"
      ]
     },
     "execution_count": 10,
     "metadata": {},
     "output_type": "execute_result"
    }
   ],
   "source": [
    "df"
   ]
  },
  {
   "cell_type": "code",
   "execution_count": 9,
   "metadata": {},
   "outputs": [
    {
     "data": {
      "text/plain": [
       "(3.373680368434947e-05, 0, 0, 0)"
      ]
     },
     "execution_count": 9,
     "metadata": {},
     "output_type": "execute_result"
    }
   ],
   "source": [
    "a.best_chromosome.return_fitness()"
   ]
  },
  {
   "cell_type": "code",
   "execution_count": null,
   "metadata": {},
   "outputs": [
    {
     "data": {
      "text/plain": [
       "'3'"
      ]
     },
     "execution_count": 12,
     "metadata": {},
     "output_type": "execute_result"
    }
   ],
   "source": []
  },
  {
   "cell_type": "code",
   "execution_count": 16,
   "metadata": {},
   "outputs": [
    {
     "ename": "KeyboardInterrupt",
     "evalue": "",
     "output_type": "error",
     "traceback": [
      "\u001b[1;31m---------------------------------------------------------------------------\u001b[0m",
      "\u001b[1;31mKeyboardInterrupt\u001b[0m                         Traceback (most recent call last)",
      "Cell \u001b[1;32mIn[16], line 19\u001b[0m\n\u001b[0;32m     17\u001b[0m \u001b[38;5;28;01mfor\u001b[39;00m i \u001b[38;5;129;01min\u001b[39;00m \u001b[38;5;28mrange\u001b[39m(\u001b[38;5;241m2\u001b[39m):\n\u001b[0;32m     18\u001b[0m     a \u001b[38;5;241m=\u001b[39m Population(test_problem, config_file\u001b[38;5;241m=\u001b[39m\u001b[38;5;124mf\u001b[39m\u001b[38;5;124m\"\u001b[39m\u001b[38;5;124minputs/params_g\u001b[39m\u001b[38;5;132;01m{\u001b[39;00mg_n\u001b[38;5;132;01m}\u001b[39;00m\u001b[38;5;124m.cfg\u001b[39m\u001b[38;5;124m\"\u001b[39m, penalty\u001b[38;5;241m=\u001b[39m\u001b[38;5;28;01mTrue\u001b[39;00m)\n\u001b[1;32m---> 19\u001b[0m     \u001b[43ma\u001b[49m\u001b[38;5;241;43m.\u001b[39;49m\u001b[43mevolve\u001b[49m\u001b[43m(\u001b[49m\u001b[38;5;124;43m\"\u001b[39;49m\u001b[38;5;124;43mGA\u001b[39;49m\u001b[38;5;124;43m\"\u001b[39;49m\u001b[43m)\u001b[49m\n\u001b[0;32m     20\u001b[0m     b \u001b[38;5;241m=\u001b[39m functions\u001b[38;5;241m.\u001b[39mdict_to_dataframe(a\u001b[38;5;241m.\u001b[39mgeneration_statistics)\n\u001b[0;32m     21\u001b[0m     g_results[test_problem][\u001b[38;5;124m\"\u001b[39m\u001b[38;5;124mGA\u001b[39m\u001b[38;5;124m\"\u001b[39m]\u001b[38;5;241m.\u001b[39mappend(b[\u001b[38;5;124m\"\u001b[39m\u001b[38;5;124mbest_fitness\u001b[39m\u001b[38;5;124m\"\u001b[39m]\u001b[38;5;241m.\u001b[39miloc[\u001b[38;5;241m-\u001b[39m\u001b[38;5;241m1\u001b[39m])\n",
      "File \u001b[1;32mc:\\Users\\13042\\Desktop\\Maestria\\Semestre4\\Evolutionary Computation\\HWs\\HW3_Evolutionary_Computation-\\GA\\population.py:244\u001b[0m, in \u001b[0;36mPopulation.evolve\u001b[1;34m(self, algorithm_selection)\u001b[0m\n\u001b[0;32m    242\u001b[0m \u001b[38;5;28;01mif\u001b[39;00m algorithm_selection \u001b[38;5;241m==\u001b[39m \u001b[38;5;124m\"\u001b[39m\u001b[38;5;124mGA\u001b[39m\u001b[38;5;124m\"\u001b[39m:\n\u001b[0;32m    243\u001b[0m     \u001b[38;5;28mself\u001b[39m\u001b[38;5;241m.\u001b[39mroulette_wheel_selection()\n\u001b[1;32m--> 244\u001b[0m     \u001b[38;5;28;43mself\u001b[39;49m\u001b[38;5;241;43m.\u001b[39;49m\u001b[43msbx_and_pbm\u001b[49m\u001b[43m(\u001b[49m\u001b[43m)\u001b[49m\n\u001b[0;32m    245\u001b[0m \u001b[38;5;28;01melif\u001b[39;00m algorithm_selection \u001b[38;5;241m==\u001b[39m \u001b[38;5;124m\"\u001b[39m\u001b[38;5;124mDE+SR\u001b[39m\u001b[38;5;124m\"\u001b[39m:\n\u001b[0;32m    246\u001b[0m     \u001b[38;5;28mself\u001b[39m\u001b[38;5;241m.\u001b[39mstochastic_ranking(binary\u001b[38;5;241m=\u001b[39m\u001b[38;5;28;01mTrue\u001b[39;00m, Pf\u001b[38;5;241m=\u001b[39m\u001b[38;5;241m0.35\u001b[39m)\n",
      "File \u001b[1;32mc:\\Users\\13042\\Desktop\\Maestria\\Semestre4\\Evolutionary Computation\\HWs\\HW3_Evolutionary_Computation-\\GA\\population.py:209\u001b[0m, in \u001b[0;36mPopulation.sbx_and_pbm\u001b[1;34m(self)\u001b[0m\n\u001b[0;32m    206\u001b[0m     child2\u001b[38;5;241m.\u001b[39mparameter_based_mutation(\u001b[38;5;28mself\u001b[39m\u001b[38;5;241m.\u001b[39mgeneration_t)\n\u001b[0;32m    208\u001b[0m     child1\u001b[38;5;241m.\u001b[39mapply_bounds()\n\u001b[1;32m--> 209\u001b[0m     \u001b[43mchild2\u001b[49m\u001b[38;5;241;43m.\u001b[39;49m\u001b[43mapply_bounds\u001b[49m\u001b[43m(\u001b[49m\u001b[43m)\u001b[49m\n\u001b[0;32m    210\u001b[0m     offspring_population\u001b[38;5;241m.\u001b[39mextend([child1, child2])\n\u001b[0;32m    212\u001b[0m \u001b[38;5;28mself\u001b[39m\u001b[38;5;241m.\u001b[39mchromosomes \u001b[38;5;241m=\u001b[39m np\u001b[38;5;241m.\u001b[39marray(offspring_population[:\u001b[38;5;28mself\u001b[39m\u001b[38;5;241m.\u001b[39mpop_size])\n",
      "File \u001b[1;32mc:\\Users\\13042\\Desktop\\Maestria\\Semestre4\\Evolutionary Computation\\HWs\\HW3_Evolutionary_Computation-\\GA\\chromosome.py:40\u001b[0m, in \u001b[0;36mChromosome.apply_bounds\u001b[1;34m(self)\u001b[0m\n\u001b[0;32m     38\u001b[0m xmin \u001b[38;5;241m=\u001b[39m \u001b[38;5;28mself\u001b[39m\u001b[38;5;241m.\u001b[39m__obj_func_singleton\u001b[38;5;241m.\u001b[39mget_xmin()\n\u001b[0;32m     39\u001b[0m xmax \u001b[38;5;241m=\u001b[39m \u001b[38;5;28mself\u001b[39m\u001b[38;5;241m.\u001b[39m__obj_func_singleton\u001b[38;5;241m.\u001b[39mget_xmax()\n\u001b[1;32m---> 40\u001b[0m \u001b[38;5;28mself\u001b[39m\u001b[38;5;241m.\u001b[39mgenes \u001b[38;5;241m=\u001b[39m \u001b[43mnp\u001b[49m\u001b[38;5;241;43m.\u001b[39;49m\u001b[43mclip\u001b[49m\u001b[43m(\u001b[49m\u001b[38;5;28;43mself\u001b[39;49m\u001b[38;5;241;43m.\u001b[39;49m\u001b[43mgenes\u001b[49m\u001b[43m,\u001b[49m\u001b[43m \u001b[49m\u001b[43mxmin\u001b[49m\u001b[43m,\u001b[49m\u001b[43m \u001b[49m\u001b[43mxmax\u001b[49m\u001b[43m)\u001b[49m\n",
      "File \u001b[1;32mc:\\Users\\13042\\anaconda3\\envs\\my_env\\lib\\site-packages\\numpy\\core\\fromnumeric.py:2169\u001b[0m, in \u001b[0;36mclip\u001b[1;34m(a, a_min, a_max, out, **kwargs)\u001b[0m\n\u001b[0;32m   2100\u001b[0m \u001b[38;5;129m@array_function_dispatch\u001b[39m(_clip_dispatcher)\n\u001b[0;32m   2101\u001b[0m \u001b[38;5;28;01mdef\u001b[39;00m \u001b[38;5;21mclip\u001b[39m(a, a_min, a_max, out\u001b[38;5;241m=\u001b[39m\u001b[38;5;28;01mNone\u001b[39;00m, \u001b[38;5;241m*\u001b[39m\u001b[38;5;241m*\u001b[39mkwargs):\n\u001b[0;32m   2102\u001b[0m \u001b[38;5;250m    \u001b[39m\u001b[38;5;124;03m\"\"\"\u001b[39;00m\n\u001b[0;32m   2103\u001b[0m \u001b[38;5;124;03m    Clip (limit) the values in an array.\u001b[39;00m\n\u001b[0;32m   2104\u001b[0m \n\u001b[1;32m   (...)\u001b[0m\n\u001b[0;32m   2167\u001b[0m \n\u001b[0;32m   2168\u001b[0m \u001b[38;5;124;03m    \"\"\"\u001b[39;00m\n\u001b[1;32m-> 2169\u001b[0m     \u001b[38;5;28;01mreturn\u001b[39;00m _wrapfunc(a, \u001b[38;5;124m'\u001b[39m\u001b[38;5;124mclip\u001b[39m\u001b[38;5;124m'\u001b[39m, a_min, a_max, out\u001b[38;5;241m=\u001b[39mout, \u001b[38;5;241m*\u001b[39m\u001b[38;5;241m*\u001b[39mkwargs)\n",
      "File \u001b[1;32mc:\\Users\\13042\\anaconda3\\envs\\my_env\\lib\\site-packages\\numpy\\core\\fromnumeric.py:59\u001b[0m, in \u001b[0;36m_wrapfunc\u001b[1;34m(obj, method, *args, **kwds)\u001b[0m\n\u001b[0;32m     56\u001b[0m     \u001b[38;5;28;01mreturn\u001b[39;00m _wrapit(obj, method, \u001b[38;5;241m*\u001b[39margs, \u001b[38;5;241m*\u001b[39m\u001b[38;5;241m*\u001b[39mkwds)\n\u001b[0;32m     58\u001b[0m \u001b[38;5;28;01mtry\u001b[39;00m:\n\u001b[1;32m---> 59\u001b[0m     \u001b[38;5;28;01mreturn\u001b[39;00m bound(\u001b[38;5;241m*\u001b[39margs, \u001b[38;5;241m*\u001b[39m\u001b[38;5;241m*\u001b[39mkwds)\n\u001b[0;32m     60\u001b[0m \u001b[38;5;28;01mexcept\u001b[39;00m \u001b[38;5;167;01mTypeError\u001b[39;00m:\n\u001b[0;32m     61\u001b[0m     \u001b[38;5;66;03m# A TypeError occurs if the object does have such a method in its\u001b[39;00m\n\u001b[0;32m     62\u001b[0m     \u001b[38;5;66;03m# class, but its signature is not identical to that of NumPy's. This\u001b[39;00m\n\u001b[1;32m   (...)\u001b[0m\n\u001b[0;32m     66\u001b[0m     \u001b[38;5;66;03m# Call _wrapit from within the except clause to ensure a potential\u001b[39;00m\n\u001b[0;32m     67\u001b[0m     \u001b[38;5;66;03m# exception has a traceback chain.\u001b[39;00m\n\u001b[0;32m     68\u001b[0m     \u001b[38;5;28;01mreturn\u001b[39;00m _wrapit(obj, method, \u001b[38;5;241m*\u001b[39margs, \u001b[38;5;241m*\u001b[39m\u001b[38;5;241m*\u001b[39mkwds)\n",
      "File \u001b[1;32mc:\\Users\\13042\\anaconda3\\envs\\my_env\\lib\\site-packages\\numpy\\core\\_methods.py:99\u001b[0m, in \u001b[0;36m_clip\u001b[1;34m(a, min, max, out, **kwargs)\u001b[0m\n\u001b[0;32m     97\u001b[0m     \u001b[38;5;28;01mreturn\u001b[39;00m um\u001b[38;5;241m.\u001b[39mmaximum(a, \u001b[38;5;28mmin\u001b[39m, out\u001b[38;5;241m=\u001b[39mout, \u001b[38;5;241m*\u001b[39m\u001b[38;5;241m*\u001b[39mkwargs)\n\u001b[0;32m     98\u001b[0m \u001b[38;5;28;01melse\u001b[39;00m:\n\u001b[1;32m---> 99\u001b[0m     \u001b[38;5;28;01mreturn\u001b[39;00m um\u001b[38;5;241m.\u001b[39mclip(a, \u001b[38;5;28mmin\u001b[39m, \u001b[38;5;28mmax\u001b[39m, out\u001b[38;5;241m=\u001b[39mout, \u001b[38;5;241m*\u001b[39m\u001b[38;5;241m*\u001b[39mkwargs)\n",
      "\u001b[1;31mKeyboardInterrupt\u001b[0m: "
     ]
    }
   ],
   "source": [
    "g_test_problems = [\"G1\", \"G4\", \"G5\", \"G6\"]\n",
    "g_results = {problem: {\"DE+SR\": [], \"GA\": []} for problem in g_test_problems}\n",
    "g_unweighted_penalty = {problem: {\"DE+SR\": [], \"GA\": []} for problem in g_test_problems}\n",
    "g_num_violations = {problem: {\"DE+SR\": [], \"GA\": []} for problem in g_test_problems} \n",
    "\n",
    "for test_problem in g_test_problems:\n",
    "    g_n = test_problem[-1]\n",
    "\n",
    "    for i in range(2):\n",
    "        a = Population(test_problem, config_file=f\"inputs/params_g{g_n}.cfg\", penalty=False)\n",
    "        a.evolve(\"DE+SR\")\n",
    "        b = functions.dict_to_dataframe(a.generation_statistics)\n",
    "        g_results[test_problem][\"DE+SR\"].append(b[\"best_fitness\"].iloc[-1])\n",
    "        g_unweighted_penalty[test_problem][\"DE+SR\"].append(b[\"unweighted_penalty\"].iloc[-1])\n",
    "        g_num_violations[test_problem][\"DE+SR\"].append(b[\"num_violations\"].iloc[-1])\n",
    "    \n",
    "    for i in range(2):\n",
    "        a = Population(test_problem, config_file=f\"inputs/params_g{g_n}.cfg\", penalty=True)\n",
    "        a.evolve(\"GA\")\n",
    "        b = functions.dict_to_dataframe(a.generation_statistics)\n",
    "        g_results[test_problem][\"GA\"].append(b[\"best_fitness\"].iloc[-1])\n",
    "        g_unweighted_penalty[test_problem][\"GA\"].append(b[\"unweighted_penalty\"].iloc[-1])\n",
    "        g_num_violations[test_problem][\"GA\"].append(b[\"num_violations\"].iloc[-1])"
   ]
  },
  {
   "cell_type": "code",
   "execution_count": null,
   "metadata": {},
   "outputs": [
    {
     "data": {
      "text/plain": [
       "{'G1': {'DE vs GA': {'statistic': -2.6111648393354674,\n",
       "   'p_value': 0.009023438818080326,\n",
       "   'conclusion': 'DE outperforms GA'}},\n",
       " 'G4': {'DE vs GA': {'statistic': 1.5666989036012806,\n",
       "   'p_value': 0.11718508719813801,\n",
       "   'conclusion': 'No significant difference'}},\n",
       " 'G5': {'DE vs GA': {'statistic': 1.9844852778949553,\n",
       "   'p_value': 0.04720176769014221,\n",
       "   'conclusion': 'GA outperforms DE'}},\n",
       " 'G6': {'DE vs GA': {'statistic': 1.775592090748118,\n",
       "   'p_value': 0.07580017458236125,\n",
       "   'conclusion': 'No significant difference'}}}"
      ]
     },
     "execution_count": 25,
     "metadata": {},
     "output_type": "execute_result"
    }
   ],
   "source": [
    "functions.compare_algorithms(results, 0.05)"
   ]
  },
  {
   "cell_type": "code",
   "execution_count": null,
   "metadata": {},
   "outputs": [
    {
     "data": {
      "text/plain": [
       "{'G1': {'DE': [9, 9, 9, 9, 9], 'GA': [9, 9, 9, 9, 9]},\n",
       " 'G4': {'DE': [6, 6, 6, 6, 6], 'GA': [6, 6, 6, 6, 6]},\n",
       " 'G5': {'DE': [6, 6, 6, 6, 6], 'GA': [6, 6, 6, 6, 6]},\n",
       " 'G6': {'DE': [1, 1, 1, 2, 1], 'GA': [2, 1, 1, 1, 2]}}"
      ]
     },
     "execution_count": 26,
     "metadata": {},
     "output_type": "execute_result"
    }
   ],
   "source": [
    "num_violations"
   ]
  },
  {
   "cell_type": "code",
   "execution_count": null,
   "metadata": {},
   "outputs": [],
   "source": [
    "a.evolve(\"DE\")"
   ]
  },
  {
   "cell_type": "code",
   "execution_count": null,
   "metadata": {},
   "outputs": [],
   "source": [
    "a.evolve(\"GA\")"
   ]
  },
  {
   "cell_type": "code",
   "execution_count": null,
   "metadata": {},
   "outputs": [],
   "source": [
    "a.best_chromosome.calculate_fitness()"
   ]
  },
  {
   "cell_type": "code",
   "execution_count": null,
   "metadata": {},
   "outputs": [],
   "source": [
    "b = functions.dict_to_dataframe(a.generation_statistics)"
   ]
  },
  {
   "cell_type": "code",
   "execution_count": null,
   "metadata": {},
   "outputs": [
    {
     "data": {
      "text/plain": [
       "57.503794558394375"
      ]
     },
     "execution_count": 9,
     "metadata": {},
     "output_type": "execute_result"
    }
   ],
   "source": [
    "b[\"best_fitness\"].iloc[-1]"
   ]
  },
  {
   "cell_type": "code",
   "execution_count": null,
   "metadata": {},
   "outputs": [
    {
     "data": {
      "text/plain": [
       "4"
      ]
     },
     "execution_count": 3,
     "metadata": {},
     "output_type": "execute_result"
    }
   ],
   "source": [
    "a.evolve()"
   ]
  },
  {
   "cell_type": "code",
   "execution_count": null,
   "metadata": {},
   "outputs": [
    {
     "name": "stdout",
     "output_type": "stream",
     "text": [
      "[90.33401053 64.61322927]\n",
      "[17.69069256 64.82750429]\n",
      "[17.71205209 36.99073275]\n",
      "[35.43228435 11.15560026]\n"
     ]
    }
   ],
   "source": [
    "for i in range(a.pop_size):\n",
    "    print(a.chromosomes[i].genes)"
   ]
  },
  {
   "cell_type": "code",
   "execution_count": null,
   "metadata": {},
   "outputs": [
    {
     "name": "stdout",
     "output_type": "stream",
     "text": [
      "612526.8955206232\n",
      "92352.57606645417\n",
      "5902.534311824702\n",
      "16168.46046834587\n"
     ]
    }
   ],
   "source": [
    "for i in range(a.pop_size):\n",
    "    print(a.chromosomes[i].fitness)"
   ]
  },
  {
   "cell_type": "code",
   "execution_count": null,
   "metadata": {},
   "outputs": [
    {
     "name": "stdout",
     "output_type": "stream",
     "text": [
      "620993.4174686676\n",
      "95259.13011571343\n",
      "6764.749628837317\n",
      "16825.533089372275\n"
     ]
    }
   ],
   "source": [
    "for i in range(a.pop_size):\n",
    "    a.chromosomes[i].calculate_fitness()\n",
    "    print(a.chromosomes[i].fitness)"
   ]
  },
  {
   "cell_type": "code",
   "execution_count": null,
   "metadata": {},
   "outputs": [
    {
     "data": {
      "text/plain": [
       "3"
      ]
     },
     "execution_count": 21,
     "metadata": {},
     "output_type": "execute_result"
    }
   ],
   "source": [
    "a.generation_t"
   ]
  },
  {
   "cell_type": "code",
   "execution_count": null,
   "metadata": {},
   "outputs": [
    {
     "data": {
      "text/plain": [
       "(6549.195799584164, 184154.93482968872, 253285.0168583821)"
      ]
     },
     "execution_count": 22,
     "metadata": {},
     "output_type": "execute_result"
    }
   ],
   "source": [
    "a.get_population_statistics()"
   ]
  },
  {
   "cell_type": "code",
   "execution_count": null,
   "metadata": {},
   "outputs": [],
   "source": [
    "a.binomial_crossover_and_selection()"
   ]
  },
  {
   "cell_type": "code",
   "execution_count": null,
   "metadata": {},
   "outputs": [],
   "source": [
    "a.tournament_selection(q=1)"
   ]
  },
  {
   "cell_type": "code",
   "execution_count": null,
   "metadata": {},
   "outputs": [],
   "source": [
    "a.sbx_and_pbm()"
   ]
  },
  {
   "cell_type": "code",
   "execution_count": null,
   "metadata": {},
   "outputs": [
    {
     "name": "stdout",
     "output_type": "stream",
     "text": [
      "15.804508093893453\n",
      "3.454327341743649\n",
      "2.586957486130423\n",
      "3.454327341743649\n",
      "3.454327341743649\n"
     ]
    }
   ],
   "source": [
    "for c in b:\n",
    "    print(c.fitness) "
   ]
  },
  {
   "cell_type": "code",
   "execution_count": null,
   "metadata": {},
   "outputs": [
    {
     "name": "stdout",
     "output_type": "stream",
     "text": [
      "0.6714053969469278\n"
     ]
    }
   ],
   "source": [
    "print(a.fitness)"
   ]
  },
  {
   "cell_type": "code",
   "execution_count": null,
   "metadata": {},
   "outputs": [],
   "source": [
    "a.parameter_based_mutation()"
   ]
  },
  {
   "cell_type": "code",
   "execution_count": null,
   "metadata": {},
   "outputs": [
    {
     "data": {
      "text/plain": [
       "array([ 0.35317455, -0.73937347])"
      ]
     },
     "execution_count": 24,
     "metadata": {},
     "output_type": "execute_result"
    }
   ],
   "source": [
    "a.genes"
   ]
  },
  {
   "cell_type": "code",
   "execution_count": null,
   "metadata": {},
   "outputs": [],
   "source": [
    "a.polynomial_mutation()"
   ]
  }
 ],
 "metadata": {
  "kernelspec": {
   "display_name": "my_env",
   "language": "python",
   "name": "python3"
  },
  "language_info": {
   "codemirror_mode": {
    "name": "ipython",
    "version": 3
   },
   "file_extension": ".py",
   "mimetype": "text/x-python",
   "name": "python",
   "nbconvert_exporter": "python",
   "pygments_lexer": "ipython3",
   "version": "3.9.19"
  }
 },
 "nbformat": 4,
 "nbformat_minor": 2
}
